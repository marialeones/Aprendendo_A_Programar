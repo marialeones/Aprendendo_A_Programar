{
  "nbformat": 4,
  "nbformat_minor": 0,
  "metadata": {
    "colab": {
      "provenance": [],
      "include_colab_link": true
    },
    "kernelspec": {
      "name": "python3",
      "display_name": "Python 3"
    },
    "language_info": {
      "name": "python"
    }
  },
  "cells": [
    {
      "cell_type": "markdown",
      "metadata": {
        "id": "view-in-github",
        "colab_type": "text"
      },
      "source": [
        "<a href=\"https://colab.research.google.com/github/marialeones/Aprendendo_A_Programar/blob/main/loja_de_roupas_py.ipynb\" target=\"_parent\"><img src=\"https://colab.research.google.com/assets/colab-badge.svg\" alt=\"Open In Colab\"/></a>"
      ]
    },
    {
      "cell_type": "code",
      "execution_count": 3,
      "metadata": {
        "colab": {
          "base_uri": "https://localhost:8080/"
        },
        "id": "mf9MCC3WPE-A",
        "outputId": "e9a1c529-dc0a-4534-eb2f-f89635d8e242"
      },
      "outputs": [
        {
          "output_type": "stream",
          "name": "stdout",
          "text": [
            "escolha uma opção: \n",
            " (1) login: \n",
            " (2) conferir os produtos da loja: \n",
            " (3) adicionar produto na sacola:  \n",
            " (4) visualizar produto escolhido:  \n",
            " (5) formas de pagamento: \n",
            " (6) sair: \n",
            "digite uma opção: 2\n",
            "Os produtos disponiveis são: \n",
            "(1) boné \n",
            "(2) blusa \n",
            "(3) calçado \n",
            "(4) acessório \n",
            "qual produto você gostaria de ter informações? 1\n",
            "Os bonés estão no valor de R$30.00 \n",
            "escolha uma opção: \n",
            " (1) login: \n",
            " (2) conferir os produtos da loja: \n",
            " (3) adicionar produto na sacola:  \n",
            " (4) visualizar produto escolhido:  \n",
            " (5) formas de pagamento: \n",
            " (6) sair: \n",
            "digite uma opção: 3\n",
            "Qual produto você gostaria de adicionar na sacola? \n",
            "informe o nome do produto: bone\n",
            "O produto selecionado foi bone\n",
            "escolha uma opção: \n",
            " (1) login: \n",
            " (2) conferir os produtos da loja: \n",
            " (3) adicionar produto na sacola:  \n",
            " (4) visualizar produto escolhido:  \n",
            " (5) formas de pagamento: \n",
            " (6) sair: \n",
            "digite uma opção: 4\n",
            "O produto escolhido foi  bone\n",
            "escolha uma opção: \n",
            " (1) login: \n",
            " (2) conferir os produtos da loja: \n",
            " (3) adicionar produto na sacola:  \n",
            " (4) visualizar produto escolhido:  \n",
            " (5) formas de pagamento: \n",
            " (6) sair: \n",
            "digite uma opção: 5\n",
            "O pagamento pode ser realizado através de Pix ou dinheiro em cédula \n",
            "escolha uma opção: \n",
            " (1) login: \n",
            " (2) conferir os produtos da loja: \n",
            " (3) adicionar produto na sacola:  \n",
            " (4) visualizar produto escolhido:  \n",
            " (5) formas de pagamento: \n",
            " (6) sair: \n",
            "digite uma opção: 1\n",
            "Adicione seus dados para realizar o cadastro: \n",
            "informe seu nome:  maria leones\n",
            "informe seu e-mail:  leones\n",
            "digite uma senha: 123\n",
            "seja bem vindo! maria leones\n"
          ]
        }
      ],
      "source": [
        "LOJA_DE_ROUPAS = []\n",
        "\n",
        "\n",
        "def dados():\n",
        "    while True:\n",
        "        print('escolha uma opção: ')\n",
        "        print(' (1) login: ')\n",
        "        print(' (2) conferir os produtos da loja: ')\n",
        "        print(' (3) adicionar produto na sacola:  ')\n",
        "        print(' (4) visualizar produto escolhido:  ')\n",
        "        print(' (5) formas de pagamento: ')\n",
        "        print(' (6) sair: ')\n",
        "\n",
        "        opcao = int(input('digite uma opção: '))\n",
        "\n",
        "        if opcao == 1:\n",
        "            print('Adicione seus dados para realizar o cadastro: ')\n",
        "            nome = str(input('informe seu nome:  '))\n",
        "            email = str(input('informe seu e-mail:  '))\n",
        "            senha = str(input('digite uma senha: '))\n",
        "\n",
        "            emailps = 'leones'\n",
        "            senhaps = '123'\n",
        "\n",
        "            if email == emailps and senha == senhaps:\n",
        "                print('seja bem vindo!', nome)\n",
        "                break\n",
        "            else:\n",
        "                print('Os dados estão incorretos, tente novamente! ')\n",
        "\n",
        "        if opcao == 2:\n",
        "            print('Os produtos disponiveis são: ')\n",
        "            print('(1) boné ')\n",
        "            print('(2) blusa ')\n",
        "            print('(3) calçado ')\n",
        "            print('(4) acessório ')\n",
        "\n",
        "            opcao_pro = int(input('qual produto você gostaria de ter informações? '))\n",
        "            if opcao_pro == 1:\n",
        "                print('Os bonés estão no valor de R$30.00 ')\n",
        "            if opcao_pro == 2:\n",
        "                print('As blusas estão no valor de R$50.00 ')\n",
        "            if opcao_pro == 3:\n",
        "                print('Os calçados disponíveis estão no valor R$80.00  ')\n",
        "            if opcao_pro == 4:\n",
        "                print('Os acessórios estão a partir de R$25.00 ')\n",
        "        if opcao == 3:\n",
        "            print('Qual produto você gostaria de adicionar na sacola? ')\n",
        "            sacola = str(input('informe o nome do produto: '))\n",
        "            LOJA_DE_ROUPAS.append(sacola)\n",
        "            print('O produto selecionado foi', sacola)\n",
        "        if opcao == 4:\n",
        "            for sacola in LOJA_DE_ROUPAS:\n",
        "                print('O produto escolhido foi ', sacola)\n",
        "        if opcao == 5:\n",
        "            print('O pagamento pode ser realizado através de Pix ou dinheiro em cédula ')\n",
        "        elif opcao == 6:\n",
        "            print('até logo! ')\n",
        "            break\n",
        "\n",
        "\n",
        "dados()\n"
      ]
    }
  ]
}