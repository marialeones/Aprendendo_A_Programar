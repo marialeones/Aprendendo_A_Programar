{
  "nbformat": 4,
  "nbformat_minor": 0,
  "metadata": {
    "colab": {
      "provenance": [],
      "authorship_tag": "ABX9TyOLNJokKts//sHGx44gW7y+",
      "include_colab_link": true
    },
    "kernelspec": {
      "name": "python3",
      "display_name": "Python 3"
    },
    "language_info": {
      "name": "python"
    }
  },
  "cells": [
    {
      "cell_type": "markdown",
      "metadata": {
        "id": "view-in-github",
        "colab_type": "text"
      },
      "source": [
        "<a href=\"https://colab.research.google.com/github/marialeones/Aprendendo_A_Programar/blob/main/dataNascimento.ipynb\" target=\"_parent\"><img src=\"https://colab.research.google.com/assets/colab-badge.svg\" alt=\"Open In Colab\"/></a>"
      ]
    },
    {
      "cell_type": "code",
      "execution_count": null,
      "metadata": {
        "id": "y6ZCPP8T1cEi"
      },
      "outputs": [],
      "source": [
        "\"\"\"Desenvolva um programa que recebe do usuário nome completo e ano de nascimento que seja entre 1922 e 2021.\n",
        " A partir dessas informações, o sistema mostrará o nome do usuário e a idade que completou, ou completará, no ano atual (2022).\n",
        "Caso o usuário não digite um número ou apareça um inválido no campo do ano, o sistema informará o erro e \n",
        "continuará perguntando até que um valor correto seja preenchido.\"\"\"\n",
        "\n",
        "from datetime import date\n",
        "\n",
        "def codigo():\n",
        " while True:\n",
        "    try: \n",
        "     nome = input(\"Digite seu nome completo: \")\n",
        "     ano = int(input(\"Digite o ano de nascimento: (entre 1922 e 2021) \"))\n",
        "     anoAtual = date.today().year \n",
        "     idade = anoAtual - ano \n",
        "     print(f\"O seu nome é: {nome}, sua idade é: {idade} anos.   \")\n",
        "    except(ValueError, TypeError):\n",
        "        print(\"\\033[31mERRO! Tente novamente! \\033[m\")\n",
        "        continue\n",
        "    else:\n",
        "      print(\"Àte logo!\")\n",
        "      break\n",
        "\n",
        "\n",
        "codigo()\n",
        "  \n"
      ]
    }
  ]
}